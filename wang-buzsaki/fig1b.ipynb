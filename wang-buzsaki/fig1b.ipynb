{
 "cells": [
  {
   "cell_type": "code",
   "execution_count": 1,
   "metadata": {},
   "outputs": [],
   "source": [
    "import numpy as np\n",
    "import pandas as pd\n",
    "from matplotlib import pyplot as plt"
   ]
  },
  {
   "cell_type": "code",
   "execution_count": 2,
   "metadata": {},
   "outputs": [
    {
     "name": "stderr",
     "output_type": "stream",
     "text": [
      "   Compiling wang-buzsaki v0.1.0 (C:\\Rust\\codes\\CA3-Rust\\wang-buzsaki)\n",
      "warning: use of deprecated item 'rand::distributions::normal::Normal': moved to rand_distr crate\n",
      " --> examples\\fig1b.rs:3:41\n",
      "  |\n",
      "3 | use rand::distributions::{Distribution, Normal};\n",
      "  |                                         ^^^^^^\n",
      "  |\n",
      "  = note: `#[warn(deprecated)]` on by default\n",
      "\n",
      "warning: use of deprecated item 'rand::distributions::normal::Normal': moved to rand_distr crate\n",
      "  --> examples\\fig1b.rs:15:14\n",
      "   |\n",
      "15 |     let nd = Normal::new(0.0, 0.03);\n",
      "   |              ^^^^^^^^^^^\n",
      "\n",
      "    Finished release [optimized] target(s) in 3.05s\n",
      "     Running `target\\release\\examples\\fig1b.exe`\n"
     ]
    }
   ],
   "source": [
    "! cargo run --example fig1b --release > fig1b.csv"
   ]
  },
  {
   "cell_type": "code",
   "execution_count": 3,
   "metadata": {},
   "outputs": [
    {
     "data": {
      "text/plain": [
       "Index(['1_0_V(mV)', '1_1_V(mV)', '1_2_V(mV)', '1_3_V(mV)', '1_4_V(mV)',\n",
       "       '1_5_V(mV)', '1_6_V(mV)', '1_7_V(mV)', '1_8_V(mV)', '1_9_V(mV)',\n",
       "       ...\n",
       "       '10_90_V(mV)', '10_91_V(mV)', '10_92_V(mV)', '10_93_V(mV)',\n",
       "       '10_94_V(mV)', '10_95_V(mV)', '10_96_V(mV)', '10_97_V(mV)',\n",
       "       '10_98_V(mV)', '10_99_V(mV)'],\n",
       "      dtype='object', length=1000)"
      ]
     },
     "execution_count": 3,
     "metadata": {},
     "output_type": "execute_result"
    }
   ],
   "source": [
    "df = pd.read_csv(\"fig1b.csv\", index_col=0)\n",
    "df.columns"
   ]
  },
  {
   "cell_type": "code",
   "execution_count": 4,
   "metadata": {},
   "outputs": [],
   "source": [
    "names = [[str(i) + \"_\" + str(j) + \"_V(mV)\" for j in range(20)] for i in range(1, 11)]"
   ]
  },
  {
   "cell_type": "code",
   "execution_count": 5,
   "metadata": {},
   "outputs": [],
   "source": [
    "def hz(arr):\n",
    "    ans = 0\n",
    "    flg = False\n",
    "    for v in arr:\n",
    "        if not flg and v > -20:\n",
    "            ans += 1\n",
    "        if v > -20:\n",
    "            flg = True\n",
    "        else:\n",
    "            flg = False\n",
    "    return ans"
   ]
  },
  {
   "cell_type": "code",
   "execution_count": 6,
   "metadata": {},
   "outputs": [],
   "source": [
    "f = np.array([[hz(df[n]) for n in name] for name in names])"
   ]
  },
  {
   "cell_type": "code",
   "execution_count": 7,
   "metadata": {},
   "outputs": [],
   "source": [
    "mu = f.mean(axis=1)\n",
    "sigma = f.std(axis=1)"
   ]
  },
  {
   "cell_type": "code",
   "execution_count": 8,
   "metadata": {},
   "outputs": [],
   "source": [
    "x = np.arange(1, 11) / 10"
   ]
  },
  {
   "cell_type": "code",
   "execution_count": 9,
   "metadata": {},
   "outputs": [
    {
     "data": {
      "image/png": "[encoded data removed]",
      "text/plain": [
       "<Figure size 432x288 with 1 Axes>"
      ]
     },
     "metadata": {
      "needs_background": "light"
     },
     "output_type": "display_data"
    }
   ],
   "source": [
    "plt.plot(x, sigma/mu, marker=\"o\")\n",
    "plt.xlim([0, 1])\n",
    "plt.ylim([0, 1])\n",
    "plt.xlabel(\"I_app (uA/cm2)\")\n",
    "plt.ylabel(\"f_σ/f_μ\")\n",
    "plt.title(\"fig.1B top\")\n",
    "plt.savefig(\"fig1BT.png\")"
   ]
  },
  {
   "cell_type": "code",
   "execution_count": 10,
   "metadata": {},
   "outputs": [
    {
     "data": {
      "image/png": "[encoded data removed]",
      "text/plain": [
       "<Figure size 432x288 with 1 Axes>"
      ]
     },
     "metadata": {
      "needs_background": "light"
     },
     "output_type": "display_data"
    }
   ],
   "source": [
    "plt.plot(mu, sigma/mu, marker=\"o\")\n",
    "plt.xlim([0, 60])\n",
    "plt.ylim([0, 1])\n",
    "plt.xlabel(\"f_μ (Hz)\")\n",
    "plt.ylabel(\"f_σ/f_μ\")\n",
    "plt.title(\"fig.1B bottom\")\n",
    "plt.savefig(\"fig1BB.png\")"
   ]
  },
  {
   "cell_type": "code",
   "execution_count": null,
   "metadata": {},
   "outputs": [],
   "source": []
  }
 ],
 "metadata": {
  "kernelspec": {
   "display_name": "Python 3",
   "language": "python",
   "name": "python3"
  },
  "language_info": {
   "codemirror_mode": {
    "name": "ipython",
    "version": 3
   },
   "file_extension": ".py",
   "mimetype": "text/x-python",
   "name": "python",
   "nbconvert_exporter": "python",
   "pygments_lexer": "ipython3",
   "version": "3.7.5"
  }
 },
 "nbformat": 4,
 "nbformat_minor": 4
}
