{
 "cells": [
  {
   "cell_type": "code",
   "execution_count": 1,
   "metadata": {},
   "outputs": [],
   "source": [
    "import numpy as np\n",
    "import pandas as pd\n",
    "from matplotlib import pyplot as plt"
   ]
  },
  {
   "cell_type": "code",
   "execution_count": 2,
   "metadata": {},
   "outputs": [
    {
     "name": "stderr",
     "output_type": "stream",
     "text": [
      "    Finished release [optimized] target(s) in 0.12s\n",
      "     Running `target\\release\\examples\\fig6.exe`\n"
     ]
    }
   ],
   "source": [
    "! cargo run --example fig6 --release > fig6.csv"
   ]
  },
  {
   "cell_type": "code",
   "execution_count": 3,
   "metadata": {},
   "outputs": [
    {
     "data": {
      "text/plain": [
       "Index(['i_s-0.25', 'i_s-0.125', 'i_s0', 'i_s0.125', 'i_s0.25', 'i_s0.375',\n",
       "       'i_s0.5', 'i_s0.625', 'i_s1.3', 'i_s1.4', 'i_s1.5', 'i_s1.6', 'i_s1.7',\n",
       "       'i_s1.8', 'i_s1.9', 'i_s2', 'i_s2.1', 'i_s2.2', 'i_s2.3', 'i_s2.4',\n",
       "       'i_s2.5', 'i_s2.6', 'i_s2.7'],\n",
       "      dtype='object')"
      ]
     },
     "execution_count": 3,
     "metadata": {},
     "output_type": "execute_result"
    }
   ],
   "source": [
    "df = pd.read_csv(\"fig6.csv\", index_col=0)\n",
    "df.columns"
   ]
  },
  {
   "cell_type": "code",
   "execution_count": 4,
   "metadata": {},
   "outputs": [],
   "source": [
    "def hz(arr):\n",
    "    ans = 0\n",
    "    flg = False\n",
    "    for v in arr:\n",
    "        if not flg and v > 70:\n",
    "            ans += 1\n",
    "        if v > 70:\n",
    "            flg = True\n",
    "        else:\n",
    "            flg = False\n",
    "    return ans"
   ]
  },
  {
   "cell_type": "code",
   "execution_count": 5,
   "metadata": {},
   "outputs": [],
   "source": [
    "neurons = ['i_s-0.25', 'i_s-0.125', 'i_s0', 'i_s0.125', 'i_s0.25', 'i_s0.375',\n",
    "       'i_s0.5', 'i_s0.625', 'i_s1.3', 'i_s1.4', 'i_s1.5', 'i_s1.6', 'i_s1.7',\n",
    "       'i_s1.8', 'i_s1.9', 'i_s2', 'i_s2.1', 'i_s2.2', 'i_s2.3', 'i_s2.4',\n",
    "       'i_s2.5', 'i_s2.6', 'i_s2.7']"
   ]
  },
  {
   "cell_type": "code",
   "execution_count": 6,
   "metadata": {},
   "outputs": [],
   "source": [
    "x_neurons = [-0.25, -0.125, 0.0, 0.125, 0.25, 0.375, 0.5, 0.625, 1.3, 1.4, 1.5, 1.6, 1.7, 1.8, 1.9, 2.0, 2.1, 2.2, 2.3, 2.4, 2.5, 2.6, 2.7]"
   ]
  },
  {
   "cell_type": "code",
   "execution_count": 7,
   "metadata": {},
   "outputs": [],
   "source": [
    "y_neurons = [hz(df[n]) / 10 for n in neurons]"
   ]
  },
  {
   "cell_type": "code",
   "execution_count": 8,
   "metadata": {},
   "outputs": [
    {
     "data": {
      "image/png": "[encoded data removed]",
      "text/plain": [
       "<Figure size 432x288 with 1 Axes>"
      ]
     },
     "metadata": {
      "needs_background": "light"
     },
     "output_type": "display_data"
    }
   ],
   "source": [
    "plt.plot(x_neurons, y_neurons, marker=\"o\", label=\"2 compartment model\")\n",
    "plt.yscale(\"log\")\n",
    "plt.xlim([-0.6, 3.1])\n",
    "plt.ylim([0.2, 100])\n",
    "plt.legend()\n",
    "plt.xlabel(\"I_s (uA/cm2)\")\n",
    "plt.ylabel(\"Frequency (Hz)\")\n",
    "plt.title(\"Fig.6\")\n",
    "plt.savefig(\"fig6.png\")"
   ]
  },
  {
   "cell_type": "code",
   "execution_count": null,
   "metadata": {},
   "outputs": [],
   "source": []
  }
 ],
 "metadata": {
  "kernelspec": {
   "display_name": "Python 3",
   "language": "python",
   "name": "python3"
  },
  "language_info": {
   "codemirror_mode": {
    "name": "ipython",
    "version": 3
   },
   "file_extension": ".py",
   "mimetype": "text/x-python",
   "name": "python",
   "nbconvert_exporter": "python",
   "pygments_lexer": "ipython3",
   "version": "3.7.5"
  }
 },
 "nbformat": 4,
 "nbformat_minor": 4
}
