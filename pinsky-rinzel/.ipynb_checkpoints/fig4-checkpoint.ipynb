{
 "cells": [
  {
   "cell_type": "code",
   "execution_count": 1,
   "metadata": {},
   "outputs": [],
   "source": [
    "import numpy as np\n",
    "import pandas as pd\n",
    "from matplotlib import pyplot as plt"
   ]
  },
  {
   "cell_type": "code",
   "execution_count": 2,
   "metadata": {},
   "outputs": [
    {
     "name": "stderr",
     "output_type": "stream",
     "text": [
      "    Finished release [optimized] target(s) in 0.09s\n",
      "     Running `target\\release\\examples\\fig4.exe`\n"
     ]
    }
   ],
   "source": [
    "! cargo run --example fig4 --release > fig4.csv"
   ]
  },
  {
   "cell_type": "code",
   "execution_count": 3,
   "metadata": {},
   "outputs": [
    {
     "data": {
      "text/plain": [
       "Index(['0|V_s', '0|Ca', '1|V_s', '1|Ca', '2|V_s', '2|Ca', '3|V_s', '3|Ca',\n",
       "       '4|V_s', '4|Ca', '5|V_s', '5|Ca', '6|V_s', '6|Ca', '7|V_s', '7|Ca',\n",
       "       '8|V_s', '8|Ca', '9|V_s', '9|Ca', '10|V_s', '10|Ca'],\n",
       "      dtype='object')"
      ]
     },
     "execution_count": 3,
     "metadata": {},
     "output_type": "execute_result"
    }
   ],
   "source": [
    "df = pd.read_csv(\"fig4.csv\", index_col=0)\n",
    "df.columns"
   ]
  },
  {
   "cell_type": "code",
   "execution_count": 4,
   "metadata": {},
   "outputs": [
    {
     "data": {
      "image/png": "[encoded data removed]",
      "text/plain": [
       "<Figure size 432x288 with 1 Axes>"
      ]
     },
     "metadata": {
      "needs_background": "light"
     },
     "output_type": "display_data"
    }
   ],
   "source": [
    "t = df.index\n",
    "x_v = []\n",
    "y_v = []\n",
    "x_c = []\n",
    "y_c = []\n",
    "for j in range(11):\n",
    "    v_y = 0.25 * (j+1) + 0.05\n",
    "    c_y = 0.25 * (j+1) - 0.05\n",
    "    v_name = str(j) + \"|V_s\"\n",
    "    c_name = str(j) + \"|Ca\"\n",
    "    v_flg = False\n",
    "    c_flg = False\n",
    "    for i, (v, c) in enumerate(zip(df[v_name], df[c_name])):\n",
    "        if not v_flg and v > 35:\n",
    "            x_v.append(t[i])\n",
    "            y_v.append(v_y)\n",
    "        if not c_flg and c > 100:\n",
    "            x_c.append(t[i])\n",
    "            y_c.append(c_y)\n",
    "        if v > 35:\n",
    "            v_flg = True\n",
    "        else:\n",
    "            v_flg = False\n",
    "        if c > 100:\n",
    "            c_flg = True\n",
    "        else:\n",
    "            c_flg = False\n",
    "plt.scatter(x_v, y_v, marker=\".\", label=\"V_s\")\n",
    "plt.scatter(x_c, y_c, marker=\".\", label=\"Ca\")\n",
    "plt.legend()\n",
    "plt.xlim([450, 1550])\n",
    "plt.xlabel(\"time(ms)\")\n",
    "plt.ylabel(\"I_s (uA/cm2)\")\n",
    "plt.title(\"fig.4\")\n",
    "plt.savefig(\"fig4.png\")"
   ]
  },
  {
   "cell_type": "code",
   "execution_count": null,
   "metadata": {},
   "outputs": [],
   "source": []
  }
 ],
 "metadata": {
  "kernelspec": {
   "display_name": "Python 3",
   "language": "python",
   "name": "python3"
  },
  "language_info": {
   "codemirror_mode": {
    "name": "ipython",
    "version": 3
   },
   "file_extension": ".py",
   "mimetype": "text/x-python",
   "name": "python",
   "nbconvert_exporter": "python",
   "pygments_lexer": "ipython3",
   "version": "3.7.5"
  }
 },
 "nbformat": 4,
 "nbformat_minor": 4
}
